{
  "nbformat": 4,
  "nbformat_minor": 0,
  "metadata": {
    "colab": {
      "name": "Image Classification using Augmentation",
      "provenance": [],
      "authorship_tag": "ABX9TyN0FFO4zgccPvg9OROMGvpx",
      "include_colab_link": true
    },
    "kernelspec": {
      "name": "python3",
      "display_name": "Python 3"
    }
  },
  "cells": [
    {
      "cell_type": "markdown",
      "metadata": {
        "id": "view-in-github",
        "colab_type": "text"
      },
      "source": [
        "<a href=\"https://colab.research.google.com/github/psych0man/Image-Classification-using-Augementation/blob/master/Image_Classification_using_Augmentation.ipynb\" target=\"_parent\"><img src=\"https://colab.research.google.com/assets/colab-badge.svg\" alt=\"Open In Colab\"/></a>"
      ]
    },
    {
      "cell_type": "markdown",
      "metadata": {
        "id": "InCqeXtteKmD",
        "colab_type": "text"
      },
      "source": [
        "\n",
        "\n",
        "\n",
        "\n",
        "# Importing Packages"
      ]
    },
    {
      "cell_type": "markdown",
      "metadata": {
        "id": "fPN-PWbWaTsa",
        "colab_type": "text"
      },
      "source": [
        "![alt text](https://upload.wikimedia.org/wikipedia/commons/1/11/TensorFlowLogo.svg)"
      ]
    },
    {
      "cell_type": "markdown",
      "metadata": {
        "id": "h5V8y42qSlRx",
        "colab_type": "text"
      },
      "source": [
        "We only need 3 packages for building this model:\n",
        "\n",
        "\n",
        "1.   **[os](https://docs.python.org/3/library/os.html):** for handling directories\n",
        "2.   **[Random](https://docs.python.org/3/library/random.html):** used in the splitting function to have a random shuffle of images\n",
        "3.   **[TensorFlow](https://github.com/tensorflow/tensorflow):** The main framework used for building the Convolutional Neural Network\n",
        "\n",
        "We'll also need the [RMSprop](https://www.tensorflow.org/api_docs/python/tf/keras/optimizers/RMSprop) optimizer from the tensorflow.keras.optimizers and the main focus of our project which is [ImageDataGenerator](https://www.tensorflow.org/api_docs/python/tf/keras/preprocessing/image/ImageDataGenerator) from tensorflow.keras.preprocessing.image\n"
      ]
    },
    {
      "cell_type": "code",
      "metadata": {
        "id": "UIhLXJ2yd3zi",
        "colab_type": "code",
        "colab": {}
      },
      "source": [
        "import os\n",
        "import random\n",
        "import tensorflow as tf\n",
        "from tensorflow.keras.optimizers import RMSprop\n",
        "from tensorflow.keras.preprocessing.image import ImageDataGenerator"
      ],
      "execution_count": null,
      "outputs": []
    },
    {
      "cell_type": "markdown",
      "metadata": {
        "id": "deh_WR6aedKn",
        "colab_type": "text"
      },
      "source": [
        "# Extracting Data from the Zip File"
      ]
    },
    {
      "cell_type": "markdown",
      "metadata": {
        "id": "mp0PCkzBgakn",
        "colab_type": "text"
      },
      "source": [
        "The dataset for this project was obtained from the classic kaggle [Dogs vs. Cats](https://www.kaggle.com/c/dogs-vs-cats/overview) . Use this [link](https://www.kaggle.com/c/dogs-vs-cats/data) to go to the website and download the dataset for yourself.\n",
        "\n",
        "The Dataset was in a zipfile so the zipfile package was used to extract the files."
      ]
    },
    {
      "cell_type": "code",
      "metadata": {
        "id": "CspNxsUNodjL",
        "colab_type": "code",
        "colab": {}
      },
      "source": [
        "from zipfile import ZipFile \n",
        "\n",
        "file_name = \"/content/Dataset.zip\"\n",
        "  \n",
        "with ZipFile(file_name, 'r') as zip: \n",
        "    zip.printdir() \n",
        "    print('Extracting all the files now...') \n",
        "    zip.extractall() \n",
        "    print('Done!') "
      ],
      "execution_count": null,
      "outputs": []
    },
    {
      "cell_type": "markdown",
      "metadata": {
        "id": "SG30gRkQfI2a",
        "colab_type": "text"
      },
      "source": [
        "# Making Directories"
      ]
    },
    {
      "cell_type": "markdown",
      "metadata": {
        "id": "t89V5swUUDVR",
        "colab_type": "text"
      },
      "source": [
        "We're going to make two main directories using [os.makedir() ](https://docs.python.org/3/library/os.html). These two directories will further contain two directories each named \"**cats**\" and \"**dogs**\""
      ]
    },
    {
      "cell_type": "code",
      "metadata": {
        "id": "12iDUlo_fIbQ",
        "colab_type": "code",
        "colab": {}
      },
      "source": [
        "to_create = [\n",
        "    '/content/cats-v-dogs',\n",
        "    '/content/cats-v-dogs/training',\n",
        "    '/content/cats-v-dogs/testing',\n",
        "    '/content/cats-v-dogs/training/cats',\n",
        "    '/content/cats-v-dogs/training/dogs',\n",
        "    '/content/cats-v-dogs/testing/cats',\n",
        "    '/content/cats-v-dogs/testing/dogs'\n",
        "]\n",
        "\n",
        "for directory in to_create:\n",
        "    try:\n",
        "        os.mkdir(directory)\n",
        "        print(directory, 'created')\n",
        "    except:\n",
        "        print(directory, 'failed')"
      ],
      "execution_count": null,
      "outputs": []
    },
    {
      "cell_type": "markdown",
      "metadata": {
        "id": "bMu3BU5-fO7Y",
        "colab_type": "text"
      },
      "source": [
        "# Splitting the Data"
      ]
    },
    {
      "cell_type": "markdown",
      "metadata": {
        "id": "2BsshW6FUjub",
        "colab_type": "text"
      },
      "source": [
        "In the following code cell we're going to make a function to split the data into a training and testing dataset having the split size as a parameter"
      ]
    },
    {
      "cell_type": "code",
      "metadata": {
        "id": "BKFjPF6AfS5n",
        "colab_type": "code",
        "colab": {}
      },
      "source": [
        "def split_data(SOURCE, TRAINING, TESTING, SPLIT_SIZE):\n",
        "    all_files = []\n",
        "    \n",
        "    for file_name in os.listdir(SOURCE):\n",
        "        file_path = SOURCE + file_name\n",
        "\n",
        "        if os.path.getsize(file_path):\n",
        "            all_files.append(file_name)\n",
        "        else:\n",
        "            print('{} is zero length, so ignoring'.format(file_name))\n",
        "    \n",
        "    n_files = len(all_files)\n",
        "    split_point = int(n_files * SPLIT_SIZE)\n",
        "    \n",
        "    shuffled = random.sample(all_files, n_files)\n",
        "    \n",
        "    train_set = shuffled[:split_point]\n",
        "    test_set = shuffled[split_point:]\n",
        "    \n",
        "    for file_name in train_set:\n",
        "        copyfile(SOURCE + file_name, TRAINING + file_name)\n",
        "        \n",
        "    for file_name in test_set:\n",
        "        copyfile(SOURCE + file_name, TESTING + file_name)\n",
        "\n",
        "\n",
        "CAT_SOURCE_DIR = \"/content/PetImages/Cat/\"\n",
        "TRAINING_CATS_DIR = \"/content/cats-v-dogs/training/cats/\"\n",
        "TESTING_CATS_DIR = \"/content/cats-v-dogs/testing/cats/\"\n",
        "DOG_SOURCE_DIR = \"/content/PetImages/Dog/\"\n",
        "TRAINING_DOGS_DIR = \"/content/cats-v-dogs/training/dogs/\"\n",
        "TESTING_DOGS_DIR = \"/content/cats-v-dogs/testing/dogs/\"\n",
        "\n",
        "split_size = .9\n",
        "split_data(CAT_SOURCE_DIR, TRAINING_CATS_DIR, TESTING_CATS_DIR, split_size)\n",
        "split_data(DOG_SOURCE_DIR, TRAINING_DOGS_DIR, TESTING_DOGS_DIR, split_size)"
      ],
      "execution_count": null,
      "outputs": []
    },
    {
      "cell_type": "markdown",
      "metadata": {
        "id": "7A4CtPZ2fXKe",
        "colab_type": "text"
      },
      "source": [
        "# Building the Model"
      ]
    },
    {
      "cell_type": "markdown",
      "metadata": {
        "id": "NWga7AozU0LY",
        "colab_type": "text"
      },
      "source": [
        "We're going to use a simple model architecture with **3 [Convolution Layers](https://www.tensorflow.org/api_docs/python/tf/keras/layers/Conv2D)** with **[MaxPooling](https://www.tensorflow.org/api_docs/python/tf/keras/layers/MaxPool2D)** and **2 [Dense Layers](https://www.tensorflow.org/api_docs/python/tf/keras/layers/Dense)** followed by a final output layer.\n",
        "\n",
        "I've used the **[RMSprop](https://www.tensorflow.org/api_docs/python/tf/keras/optimizers/RMSprop)** optimizer ( with a custom learning rate of 0.001 ). For the loss function **[Binary Crossentropy](https://www.tensorflow.org/api_docs/python/tf/keras/losses/BinaryCrossentropy)** was best suited as it is a binary classification problem. "
      ]
    },
    {
      "cell_type": "code",
      "metadata": {
        "id": "lFoa2lA3fbKm",
        "colab_type": "code",
        "colab": {}
      },
      "source": [
        "model = tf.keras.models.Sequential([\n",
        "    tf.keras.layers.Conv2D(32, (3,3), input_shape=(150, 150, 3), activation='relu'),\n",
        "    tf.keras.layers.MaxPooling2D(2,2),\n",
        "    tf.keras.layers.Conv2D(64, (3,3), activation='relu'),\n",
        "    tf.keras.layers.MaxPooling2D(2,2),\n",
        "    tf.keras.layers.Conv2D(128, (3, 3), activation='relu'),\n",
        "    tf.keras.layers.MaxPooling2D(2,2),\n",
        "    tf.keras.layers.Flatten(),\n",
        "    tf.keras.layers.Dense(512, activation='relu'),\n",
        "    tf.keras.layers.Dense(128, activation='relu'),\n",
        "    tf.keras.layers.Dense(1, activation='sigmoid')\n",
        "])\n",
        "\n",
        "model.compile(optimizer=RMSprop(lr=0.001), loss='binary_crossentropy', metrics=['acc'])"
      ],
      "execution_count": null,
      "outputs": []
    },
    {
      "cell_type": "markdown",
      "metadata": {
        "id": "yzzw3gHcfj0v",
        "colab_type": "text"
      },
      "source": [
        "# Augmentation in ImageDataGenerator"
      ]
    },
    {
      "cell_type": "markdown",
      "metadata": {
        "id": "W4KehpZ2YJDa",
        "colab_type": "text"
      },
      "source": [
        "I've only used a few parameters of the ImageDataGenerator function. For the complete list visit the [docs](https://www.tensorflow.org/api_docs/python/tf/keras/preprocessing/image/ImageDataGenerator)"
      ]
    },
    {
      "cell_type": "code",
      "metadata": {
        "id": "pIhw0W7EfoGN",
        "colab_type": "code",
        "colab": {}
      },
      "source": [
        "TRAINING_DIR = '/content/cats-v-dogs/training'\n",
        "train_datagen = ImageDataGenerator(\n",
        "    rescale=1 / 255, # Rescaling for Normalization\n",
        "    rotation_range=40, # integer range for random rotations\n",
        "    width_shift_range=.2, # Fraction of the range to shift width-wise\n",
        "    height_shift_range=.2, # Fraction of the range to shift height-wise\n",
        "    shear_range=.2, # Fraction for Shear Intensity\n",
        "    zoom_range=.2, # Fraction for random zoom\n",
        "    horizontal_flip=True, # Allowing for Flipped Images\n",
        "    fill_mode='nearest' # 'nearest' is the default fill mode \n",
        ")\n",
        "train_generator = train_datagen.flow_from_directory(\n",
        "    TRAINING_DIR,\n",
        "    batch_size=64,\n",
        "    class_mode='binary', # 'binary' because we have only two classes\n",
        "    target_size=(150, 150)\n",
        ")\n",
        "\n",
        "VALIDATION_DIR = '/content/cats-v-dogs/testing'\n",
        "validation_datagen = ImageDataGenerator(\n",
        "    rescale=1 / 255, # Rescaling for Normalization\n",
        "    rotation_range=40, # integer range for random rotations\n",
        "    width_shift_range=.2, # Fraction of the range to shift width-wise\n",
        "    height_shift_range=.2, # Fraction of the range to shift height-wise\n",
        "    shear_range=.2, # Fraction for Shear Intensity\n",
        "    zoom_range=.2, # Fraction for random zoom\n",
        "    horizontal_flip=True, # Allowing for Flipped Images\n",
        "    fill_mode='nearest' # 'nearest' is the default fill mode \n",
        "\n",
        ")\n",
        "validation_generator = validation_datagen.flow_from_directory(\n",
        "    VALIDATION_DIR,\n",
        "    batch_size=64,\n",
        "    class_mode='binary', # 'binary' because we have only two classes\n",
        "    target_size=(150, 150)\n",
        ")"
      ],
      "execution_count": null,
      "outputs": []
    },
    {
      "cell_type": "markdown",
      "metadata": {
        "id": "gjLEJ10Sfrqc",
        "colab_type": "text"
      },
      "source": [
        "# Training the Model"
      ]
    },
    {
      "cell_type": "code",
      "metadata": {
        "id": "0rdyk6wEfwes",
        "colab_type": "code",
        "colab": {}
      },
      "source": [
        "history = model.fit_generator(train_generator,\n",
        "                              epochs=2,\n",
        "                              verbose=1,\n",
        "                              validation_data=validation_generator)"
      ],
      "execution_count": null,
      "outputs": []
    },
    {
      "cell_type": "markdown",
      "metadata": {
        "id": "Wt-FXOk3f0Xn",
        "colab_type": "text"
      },
      "source": [
        "# Analysing the Model by Graphs"
      ]
    },
    {
      "cell_type": "code",
      "metadata": {
        "id": "aJUCOYcSf6lx",
        "colab_type": "code",
        "colab": {
          "base_uri": "https://localhost:8080/",
          "height": 562
        },
        "outputId": "f6ec3da6-fc83-4fa7-faf2-0110257884b7"
      },
      "source": [
        "%matplotlib inline\n",
        "\n",
        "import matplotlib.image  as mpimg\n",
        "import matplotlib.pyplot as plt\n",
        "\n",
        "acc=history.history['acc']\n",
        "val_acc=history.history['val_acc']\n",
        "loss=history.history['loss']\n",
        "val_loss=history.history['val_loss']\n",
        "\n",
        "epochs=range(len(acc)) # Getting the number of epochs\n",
        "\n",
        "# Accuracy Graph\n",
        "plt.plot(epochs, acc, 'r', \"Training Accuracy\")\n",
        "plt.plot(epochs, val_acc, 'b', \"Validation Accuracy\")\n",
        "plt.title('Training and validation accuracy')\n",
        "plt.figure()\n",
        "# Loss Graph\n",
        "plt.plot(epochs, loss, 'r', \"Training Loss\")\n",
        "plt.plot(epochs, val_loss, 'b', \"Validation Loss\")\n",
        "plt.title('Training and validation loss')\n",
        "\n",
        "\n"
      ],
      "execution_count": null,
      "outputs": [
        {
          "output_type": "execute_result",
          "data": {
            "text/plain": [
              "Text(0.5, 1.0, 'Training and validation loss')"
            ]
          },
          "metadata": {
            "tags": []
          },
          "execution_count": 20
        },
        {
          "output_type": "display_data",
          "data": {
            "image/png": "[encoded data removed]",
            "text/plain": [
              "<Figure size 432x288 with 1 Axes>"
            ]
          },
          "metadata": {
            "tags": [],
            "needs_background": "light"
          }
        },
        {
          "output_type": "display_data",
          "data": {
            "image/png": "[encoded data removed]",
            "text/plain": [
              "<Figure size 432x288 with 1 Axes>"
            ]
          },
          "metadata": {
            "tags": [],
            "needs_background": "light"
          }
        }
      ]
    }
  ]
}